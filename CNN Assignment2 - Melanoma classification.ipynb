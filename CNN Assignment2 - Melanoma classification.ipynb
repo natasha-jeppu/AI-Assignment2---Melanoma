{
 "cells": [
  {
   "cell_type": "code",
   "execution_count": 1,
   "metadata": {},
   "outputs": [
    {
     "name": "stderr",
     "output_type": "stream",
     "text": [
      "Using TensorFlow backend.\n"
     ]
    }
   ],
   "source": [
    "import os\n",
    "import cv2\n",
    "from keras.callbacks import Callback\n",
    "from sklearn.metrics import confusion_matrix\n",
    "from keras.models import Sequential\n",
    "from keras.layers import Dense\n",
    "from keras.layers import Conv2D\n",
    "from keras.layers import MaxPooling2D\n",
    "from keras.layers import Flatten\n",
    "from keras.datasets import mnist\n",
    "from keras.utils import *\n",
    "import matplotlib.pyplot as plt\n",
    "from keras import optimizers\n",
    "from keras import losses\n",
    "import numpy as np\n",
    "import random\n"
   ]
  },
  {
   "cell_type": "code",
   "execution_count": 2,
   "metadata": {},
   "outputs": [],
   "source": [
    "def get_fscore(cm):\n",
    "    precision = cm[1][0]/(cm[0][0]+cm[1][0])\n",
    "    recall =  cm[1][0]/(cm[1][0]+cm[1][1])\n",
    "\n",
    "    f1 = 2*precision*recall/(precision+recall)\n",
    "    print(\"Melanoma F1 score:\",f1)\n",
    "   \n",
    "    precision = cm[0][0]/(cm[0][0]+cm[0][1])\n",
    "    recall =  cm[0][0]/(cm[0][0]+cm[1][0])\n",
    "\n",
    "    f1 = 2*precision*recall/(precision+recall)\n",
    "    print(\"Non-melanoma F1 score:\",f1)"
   ]
  },
  {
   "cell_type": "code",
   "execution_count": 3,
   "metadata": {},
   "outputs": [
    {
     "name": "stdout",
     "output_type": "stream",
     "text": [
      "Done\n"
     ]
    }
   ],
   "source": [
    "batch_size = 1280\n",
    "gt_all = os.listdir('gt')\n",
    "    \n",
    "batch_train_x = np.zeros((batch_size,64,64,3))\n",
    "batch_train_y = np.zeros((batch_size,1))\n",
    "for a in range(batch_size):\n",
    "    i = random.randint(0,len(gt_all)-1)\n",
    "\n",
    "    name = gt_all[i]\n",
    "    name = name.replace('_segmentation','')\n",
    "    name = name.replace('png','jpg')\n",
    "    if name in os.listdir('melanoma'):\n",
    "        img = cv2.imread(os.path.join('melanoma',name))\n",
    "        if img is not None:\n",
    "            img = cv2.resize(img,(64,64))\n",
    "            batch_train_x[a] = img\n",
    "            batch_train_y[a] = 1\n",
    "    else:\n",
    "        img = cv2.imread(os.path.join('others',name))\n",
    "        if img is not None:\n",
    "            img = cv2.resize(img,(64,64))\n",
    "            batch_train_x[a] = img\n",
    "            batch_train_y[a] = 0\n",
    "batch_train_x = batch_train_x.astype('float32')\n",
    "batch_train_y = batch_train_y.astype('float32')\n",
    "batch_train_y = to_categorical(batch_train_y,2)\n",
    "print('Done')"
   ]
  },
  {
   "cell_type": "code",
   "execution_count": 4,
   "metadata": {},
   "outputs": [
    {
     "name": "stdout",
     "output_type": "stream",
     "text": [
      "Done\n"
     ]
    }
   ],
   "source": [
    "batch_size = 320\n",
    "gt_all = os.listdir('gt')\n",
    "    \n",
    "batch_val_x = np.zeros((batch_size,64,64,3))\n",
    "batch_val_y = np.zeros((batch_size,1))\n",
    "\n",
    "\n",
    "for a in range(batch_size):\n",
    "    i = random.randint(0,len(gt_all)-1)\n",
    " \n",
    "    name = gt_all[i]\n",
    "    name = name.replace('_segmentation','')\n",
    "    name = name.replace('png','jpg')\n",
    "    if name in os.listdir('melanoma'):\n",
    "        img = cv2.imread(os.path.join('melanoma',name))\n",
    "        if img is not None:\n",
    "            img = cv2.resize(img,(64,64))\n",
    "            batch_val_x[a] = img\n",
    "            batch_val_y[a] = 1\n",
    "    else:\n",
    "        img = cv2.imread(os.path.join('others',name))\n",
    "        if img is not None:\n",
    "            img = cv2.resize(img,(64,64))\n",
    "            batch_val_x[a] = img\n",
    "            batch_val_y[a] = 0\n",
    "batch_val_x = batch_val_x.astype('float32')\n",
    "batch_val_y = batch_val_y.astype('float32')\n",
    "batch_val_y = to_categorical(batch_val_y,2)\n",
    "print('Done')"
   ]
  },
  {
   "cell_type": "code",
   "execution_count": 5,
   "metadata": {},
   "outputs": [
    {
     "name": "stdout",
     "output_type": "stream",
     "text": [
      "Done\n"
     ]
    }
   ],
   "source": [
    "batch_size = 200\n",
    "gt_all = os.listdir('gt')\n",
    "    \n",
    "batch_test_x = np.zeros((batch_size,64,64,3))\n",
    "batch_test_y = np.zeros((batch_size,1))\n",
    "\n",
    "for a in range(batch_size):\n",
    "    i = random.randint(0,len(gt_all)-1)\n",
    " \n",
    "    name = gt_all[i]\n",
    "    name = name.replace('_segmentation','')\n",
    "    name = name.replace('png','jpg')\n",
    "    if name in os.listdir('melanoma'):\n",
    "        img = cv2.imread(os.path.join('melanoma',name))\n",
    "        if img is not None:\n",
    "            img = cv2.resize(img,(64,64))\n",
    "            batch_test_x[a] = img\n",
    "            batch_test_y[a] = 1\n",
    "    else:\n",
    "        img = cv2.imread(os.path.join('others',name))\n",
    "        if img is not None:\n",
    "            img = cv2.resize(img,(64,64))\n",
    "            batch_test_x[a] = img\n",
    "            batch_test_y[a] = 0\n",
    "batch_test_x = batch_test_x.astype('float32')\n",
    "batch_test_y = batch_test_y.astype('float32')\n",
    "batch_test_y = to_categorical(batch_test_y,2)\n",
    "print('Done')"
   ]
  },
  {
   "cell_type": "code",
   "execution_count": 8,
   "metadata": {},
   "outputs": [],
   "source": [
    "class_weight = {0.6,0.2}"
   ]
  },
  {
   "cell_type": "code",
   "execution_count": 11,
   "metadata": {},
   "outputs": [
    {
     "name": "stdout",
     "output_type": "stream",
     "text": [
      "Train on 1280 samples, validate on 320 samples\n",
      "Epoch 1/20\n",
      "1280/1280 [==============================] - 49s 38ms/step - loss: 4.4183 - acc: 0.7258 - val_loss: 2.0651 - val_acc: 0.8719\n",
      "Epoch 2/20\n",
      "1280/1280 [==============================] - 48s 37ms/step - loss: 2.9592 - acc: 0.8164 - val_loss: 2.0651 - val_acc: 0.8719\n",
      "Epoch 3/20\n",
      "1280/1280 [==============================] - 48s 38ms/step - loss: 2.9592 - acc: 0.8164 - val_loss: 2.0651 - val_acc: 0.8719\n",
      "Epoch 4/20\n",
      "1280/1280 [==============================] - 48s 38ms/step - loss: 2.9592 - acc: 0.8164 - val_loss: 2.0651 - val_acc: 0.8719\n",
      "Epoch 5/20\n",
      "1280/1280 [==============================] - 49s 38ms/step - loss: 2.9592 - acc: 0.8164 - val_loss: 2.0651 - val_acc: 0.8719\n",
      "Epoch 6/20\n",
      "1280/1280 [==============================] - 48s 38ms/step - loss: 2.9592 - acc: 0.8164 - val_loss: 2.0651 - val_acc: 0.8719\n",
      "Epoch 7/20\n",
      "1280/1280 [==============================] - 48s 37ms/step - loss: 2.9592 - acc: 0.8164 - val_loss: 2.0651 - val_acc: 0.8719\n",
      "Epoch 8/20\n",
      "1280/1280 [==============================] - 48s 37ms/step - loss: 2.9592 - acc: 0.8164 - val_loss: 2.0651 - val_acc: 0.8719\n",
      "Epoch 9/20\n",
      "1280/1280 [==============================] - 48s 38ms/step - loss: 2.9592 - acc: 0.8164 - val_loss: 2.0651 - val_acc: 0.8719\n",
      "Epoch 10/20\n",
      "1280/1280 [==============================] - 48s 38ms/step - loss: 2.9592 - acc: 0.8164 - val_loss: 2.0651 - val_acc: 0.8719\n",
      "Epoch 11/20\n",
      "1280/1280 [==============================] - 48s 38ms/step - loss: 2.9592 - acc: 0.8164 - val_loss: 2.0651 - val_acc: 0.8719\n",
      "Epoch 12/20\n",
      "1280/1280 [==============================] - 48s 38ms/step - loss: 2.9592 - acc: 0.8164 - val_loss: 2.0651 - val_acc: 0.8719\n",
      "Epoch 13/20\n",
      "1280/1280 [==============================] - 48s 38ms/step - loss: 2.9592 - acc: 0.8164 - val_loss: 2.0651 - val_acc: 0.8719\n",
      "Epoch 14/20\n",
      "1280/1280 [==============================] - 48s 38ms/step - loss: 2.9592 - acc: 0.8164 - val_loss: 2.0651 - val_acc: 0.8719\n",
      "Epoch 15/20\n",
      "1280/1280 [==============================] - 49s 38ms/step - loss: 2.9592 - acc: 0.8164 - val_loss: 2.0651 - val_acc: 0.8719\n",
      "Epoch 16/20\n",
      "1280/1280 [==============================] - 49s 38ms/step - loss: 2.9592 - acc: 0.8164 - val_loss: 2.0651 - val_acc: 0.8719\n",
      "Epoch 17/20\n",
      "1280/1280 [==============================] - 49s 38ms/step - loss: 2.9592 - acc: 0.8164 - val_loss: 2.0651 - val_acc: 0.8719\n",
      "Epoch 18/20\n",
      "1280/1280 [==============================] - 50s 39ms/step - loss: 2.9592 - acc: 0.8164 - val_loss: 2.0651 - val_acc: 0.8719\n",
      "Epoch 19/20\n",
      "1280/1280 [==============================] - 48s 37ms/step - loss: 2.9592 - acc: 0.8164 - val_loss: 2.0651 - val_acc: 0.8719\n",
      "Epoch 20/20\n",
      "1280/1280 [==============================] - 48s 37ms/step - loss: 2.9592 - acc: 0.8164 - val_loss: 2.0651 - val_acc: 0.8719\n"
     ]
    },
    {
     "data": {
      "text/plain": [
       "<keras.callbacks.History at 0x990f540be0>"
      ]
     },
     "execution_count": 11,
     "metadata": {},
     "output_type": "execute_result"
    }
   ],
   "source": [
    "model1 = Sequential()\n",
    "model1.add(Conv2D(64, kernel_size=(5, 5), strides=(1, 1),\n",
    "                 activation='relu',\n",
    "                 input_shape = (64,64,3)))\n",
    "model1.add(MaxPooling2D(pool_size=(2, 2), strides=(2, 2)))\n",
    "model1.add(Conv2D(64, (5, 5), activation='relu'))\n",
    "model1.add(MaxPooling2D(pool_size=(2, 2)))\n",
    "model1.add(Flatten())\n",
    "model1.add(Dense(1000, activation='relu'))\n",
    "model1.add(Dense(2, activation='softmax'))\n",
    "model1.compile(loss=losses.categorical_crossentropy,\n",
    "              optimizer=optimizers.SGD(lr=0.5),\n",
    "              metrics=['accuracy'])\n",
    "model1.fit(batch_train_x,batch_train_y,validation_data = (batch_val_x,batch_val_y),epochs=20, batch_size=200,class_weight = class_weight, verbose=1)"
   ]
  },
  {
   "cell_type": "code",
   "execution_count": 12,
   "metadata": {},
   "outputs": [
    {
     "name": "stdout",
     "output_type": "stream",
     "text": [
      "200/200 [==============================] - 3s 16ms/step\n"
     ]
    }
   ],
   "source": [
    "score = model1.evaluate(batch_test_x,batch_test_y,verbose=1)"
   ]
  },
  {
   "cell_type": "code",
   "execution_count": 13,
   "metadata": {},
   "outputs": [
    {
     "name": "stdout",
     "output_type": "stream",
     "text": [
      "Test loss: 2.82066669941\n",
      "Test accuracy: 82.5 %\n"
     ]
    }
   ],
   "source": [
    "print('Test loss:', score[0])\n",
    "print('Test accuracy:', score[1]*100,'%')"
   ]
  },
  {
   "cell_type": "code",
   "execution_count": 14,
   "metadata": {},
   "outputs": [
    {
     "name": "stdout",
     "output_type": "stream",
     "text": [
      "Melanoma F1 score: 0.297872340426\n",
      "Non-melanoma F1 score: 0.904109589041\n"
     ]
    }
   ],
   "source": [
    "y_pred = model1.predict(batch_test_x)\n",
    "y_test = batch_test_y\n",
    "cm = confusion_matrix(y_test.argmax(axis=1),y_pred.argmax(axis=1))\n",
    "get_fscore(cm)"
   ]
  },
  {
   "cell_type": "code",
   "execution_count": null,
   "metadata": {},
   "outputs": [],
   "source": []
  },
  {
   "cell_type": "code",
   "execution_count": null,
   "metadata": {},
   "outputs": [],
   "source": []
  }
 ],
 "metadata": {
  "kernelspec": {
   "display_name": "Python 3",
   "language": "python",
   "name": "python3"
  },
  "language_info": {
   "codemirror_mode": {
    "name": "ipython",
    "version": 3
   },
   "file_extension": ".py",
   "mimetype": "text/x-python",
   "name": "python",
   "nbconvert_exporter": "python",
   "pygments_lexer": "ipython3",
   "version": "3.6.1"
  }
 },
 "nbformat": 4,
 "nbformat_minor": 2
}
